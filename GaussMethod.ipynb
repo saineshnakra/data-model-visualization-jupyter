{
  "nbformat": 4,
  "nbformat_minor": 0,
  "metadata": {
    "colab": {
      "provenance": []
    },
    "kernelspec": {
      "name": "python3",
      "display_name": "Python 3"
    },
    "language_info": {
      "name": "python"
    }
  },
  "cells": [
    {
      "cell_type": "markdown",
      "source": [
        "#Solving Linear systems using python (Gauss Method as discussed in class)\n",
        "## Creating the row echelon form\n",
        "Creating the row echelon form involves a series of elementary row operation. The goal is to transform the augmented matrix (matrix with coefficients and constants) into a form where the leading entry of each nonzero row is 1 and the columns below and above leading 1s have all zeros.\n",
        "\n",
        "To do this in python, there is a built-in library in python called sympy(documentation : https://docs.sympy.org/latest/modules/matrices/matrices.html). The function Matrix().rref() can be used to obtain the reduced row echelon form of a matrix\n",
        "\n"
      ],
      "metadata": {
        "id": "JmPyEFTTewg1"
      }
    },
    {
      "cell_type": "code",
      "source": [
        "from sympy import Matrix\n",
        "\n",
        "# Coefficient matrix of the system (Input the coeficients of your system [[a11,a12,a13],[a21,a22,a23],[a31,a32,a33]])\n",
        "A = Matrix([\n",
        "    [2, 1, -1],\n",
        "    [4, -2, 3],\n",
        "    [6, -3, -3]\n",
        "])\n",
        "\n",
        "# Constants vector\n",
        "B = Matrix([1, 7, 5])\n",
        "\n",
        "# Augmented matrix [A | B] (This function is used to join the B matrix to A matrix -> left to right order)\n",
        "augmented_matrix = A.row_join(B)\n",
        "\n",
        "# Step 1: Obtain the reduced row echelon form (rref)\n",
        "rref_matrix, pivot_columns = augmented_matrix.rref()\n",
        "\n",
        "# Display the row echelon form\n",
        "print(\"Row Echelon Form:\")\n",
        "print(rref_matrix)\n",
        "\n",
        "# Display the indices of columns containing pivots\n",
        "print(\"Pivot Columns Indices:\")\n",
        "print(pivot_columns)\n"
      ],
      "metadata": {
        "colab": {
          "base_uri": "https://localhost:8080/"
        },
        "id": "sUQVFuZyfRCq",
        "outputId": "15cfbbe0-b76a-4d3e-efe3-47761c300d84"
      },
      "execution_count": 2,
      "outputs": [
        {
          "output_type": "stream",
          "name": "stdout",
          "text": [
            "Row Echelon Form:\n",
            "Matrix([[1, 0, 0, 31/30], [0, 1, 0, -1/3], [0, 0, 1, 11/15]])\n",
            "Pivot Columns Indices:\n",
            "(0, 1, 2)\n"
          ]
        }
      ]
    },
    {
      "cell_type": "markdown",
      "source": [
        "\n",
        "## Using back substitution to find the solution of the linear system\n",
        "\n",
        "After we have found the row echelon form, we can simply use back substitution to find the solution of the linear system of equations as **follows**\n"
      ],
      "metadata": {
        "id": "hW-I6uwTewlw"
      }
    },
    {
      "cell_type": "code",
      "source": [
        "solution = rref_matrix[:, -1]\n",
        "print(\"Solution tuple of the linear system is as follows:\")\n",
        "print(tuple(solution))\n"
      ],
      "metadata": {
        "colab": {
          "base_uri": "https://localhost:8080/"
        },
        "id": "WLR3AwuPipyd",
        "outputId": "bc726106-b2ea-4493-aa61-92f8d5f54fe3"
      },
      "execution_count": 5,
      "outputs": [
        {
          "output_type": "stream",
          "name": "stdout",
          "text": [
            "Solution tuple of the linear system is as follows:\n",
            "(31/30, -1/3, 11/15)\n"
          ]
        }
      ]
    }
  ]
}