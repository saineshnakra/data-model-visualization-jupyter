{
  "nbformat": 4,
  "nbformat_minor": 0,
  "metadata": {
    "colab": {
      "provenance": []
    },
    "kernelspec": {
      "name": "python3",
      "display_name": "Python 3"
    },
    "language_info": {
      "name": "python"
    }
  },
  "cells": [
    {
      "cell_type": "markdown",
      "source": [
        "# Matrix Multiplication\n",
        "\n",
        "Let's consider two matrices, A and B, where A is of size\n",
        "m×n and B is of size\n",
        "n×p. The resulting matrix, C, will be of size\n",
        "m×p.\n",
        "\n",
        "## Code Explanation(Optional)\n",
        "\n",
        "We use matplotlib.patches to draw the rectangle boxes that you see around the matrices.\n",
        "To learn on how to use it properly you can refer to the documentation (https://matplotlib.org/stable/api/_as_gen/matplotlib.patches.Rectangle.html)\n",
        "\n",
        "Please read the comments for a step by step breakdown"
      ],
      "metadata": {
        "id": "eBXPFZcEGTuv"
      }
    },
    {
      "cell_type": "code",
      "execution_count": null,
      "metadata": {
        "colab": {
          "base_uri": "https://localhost:8080/",
          "height": 406
        },
        "id": "7E8sGX7MXyHE",
        "outputId": "c9e79099-f63b-489e-eb2c-b70839118078"
      },
      "outputs": [
        {
          "output_type": "display_data",
          "data": {
            "text/plain": [
              "<Figure size 640x480 with 1 Axes>"
            ],
            "image/png": "[encoded data removed]"
          },
          "metadata": {}
        }
      ],
      "source": [
        "import numpy as np\n",
        "import matplotlib.pyplot as plt\n",
        "from matplotlib.patches import Rectangle\n",
        "\n",
        "# Define our two matrices A and B that we want to multiply (Can change this to change our visualization)\n",
        "A = np.array([[1, 2], [3, 4]])\n",
        "B = np.array([[5, 6], [7, 8]])\n",
        "\n",
        "# Matrix multiplication (Using np in built matrix multiplication feature)\n",
        "C = np.dot(A, B)\n",
        "\n",
        "# Visualization (.subplots creates and returns the entire figure -> fig and ax -> returns the axes of our graph)\n",
        "fig, ax = plt.subplots()\n",
        "\n",
        "\n",
        "# Function to draw matrix Parameters we need -> (matrix to draw, top_left_coordinates,axes-> graph, matrix_name)\n",
        "def draw_matrix(matrix, top_left, ax, matrix_label):\n",
        "    rows, cols = matrix.shape #get rows and cols number utilizing the .shape function\n",
        "    bottom_left = (top_left[0], top_left[1] - rows)\n",
        "\n",
        "    # Draw the cells of the matrix (places texts in the correct positions -> can change the 0.5 to increase or decrease spacing)\n",
        "    for i in range(rows):\n",
        "        for j in range(cols):\n",
        "            cell_text = str(matrix[i, j])\n",
        "            ax.text(top_left[0] + j + 0.5, top_left[1] - i - 0.5, cell_text, va='center', ha='center')\n",
        "\n",
        "    # Draw a rectangle around the matrix (Draw the final rectangle)\n",
        "    ax.add_patch(Rectangle(bottom_left, cols, rows, fill=None, edgecolor='black', lw=1))\n",
        "    ax.text(top_left[0] + cols / 2, top_left[1] + 0.5, matrix_label, va='center', ha='center', fontsize=12)\n",
        "\n",
        "# Draw matrices A, B, and C (Define the starting points of each A,B and C according to your preference)\n",
        "draw_matrix(A, (0, 2), ax, 'A')\n",
        "draw_matrix(B, (3, 2), ax, 'B')\n",
        "draw_matrix(C, (7, 2), ax, 'C')\n",
        "\n",
        "# Settings for display (Setting axis (else will be too small to be visible) and removing the graph)\n",
        "ax.set_xlim(-1, 10)\n",
        "ax.set_ylim(-1, 4)\n",
        "ax.axis('off')\n",
        "\n",
        "#Make the plot visible\n",
        "plt.show()\n"
      ]
    },
    {
      "cell_type": "markdown",
      "source": [
        "We can see the multiplication answer for our matrices but what were the steps? Let's visualize the solution.\n",
        "\n",
        "Code Explanation(Optional)\n",
        "\n",
        "In the highlight_row_col:\n",
        "\n",
        "1. we use .patches again - Renamed to Rectangle - to draw yellow boxes.\n",
        "2. We choose Alpha as 0.3 to make the text on it visible - that decides how transparent the object is going to be.\n",
        "Please read the comments for a step by step breakdown\n",
        "\n",
        "visualize_calculation:\n",
        "\n",
        "Give it matrix A,B,C, rowNumberToCalculate, ColNumberToCalculate, figure and axis"
      ],
      "metadata": {
        "id": "daVG3b4FHUMJ"
      }
    },
    {
      "cell_type": "code",
      "source": [
        "import matplotlib.animation as animation\n",
        "\n",
        "# Highlight the rows and columns to yellow (change color to change the highlighted color)\n",
        "def highlight_row_col(A, B, ax, row, col, top_left_A, top_left_B):\n",
        "    # Highlighting in A (row) -> p.s: the highlighted box will depend on the row chosen\n",
        "    ax.add_patch(Rectangle((top_left_A[0], top_left_A[1] - row - 1), B.shape[1], 1, color='yellow', alpha=0.3))\n",
        "\n",
        "    # Highlighting in B (column) -> p.s: the highlighted box will depend on the col chosen\n",
        "    ax.add_patch(Rectangle((top_left_B[0] + col, top_left_B[1] - B.shape[0]), 1, B.shape[0], color='yellow', alpha=0.3))\n",
        "\n",
        "# Function to visualize the calculation of one cell in C\n",
        "def visualize_calculation(A, B, C, row, col, fig, ax):\n",
        "    # Always clear the drawings in the previous last cell.\n",
        "    ax.clear()\n",
        "\n",
        "    # Draw matrices A, B, and C(Same coordinates as before for A, B, and C)\n",
        "    top_left_A = (0, 2)\n",
        "    top_left_B = (3, 2)\n",
        "    top_left_C = (7, 2)\n",
        "    draw_matrix(A, top_left_A, ax, 'A')\n",
        "    draw_matrix(B, top_left_B, ax, 'B')\n",
        "    draw_matrix(C, top_left_C, ax, 'C')\n",
        "\n",
        "    # Highlight the row in A and column in B used for current cell calculation\n",
        "    highlight_row_col(A, B, ax, row, col, top_left_A, top_left_B)\n",
        "\n",
        "    # Calculate and display the logic behind the calculation\n",
        "    # Start with an empty string for our operation\n",
        "    operation = \"\"\n",
        "\n",
        "    # Loop through each element in the row of A and the corresponding element in the column of B\n",
        "    for i in range(A.shape[1]):\n",
        "        # Multiply the elements and convert to string\n",
        "        multiplication = str(A[row, i]) + '×' + str(B[i, col])\n",
        "        # Add this to the operation string\n",
        "        if i > 0:\n",
        "            operation += ' + '  # Add a plus sign before each term except the first\n",
        "        operation += multiplication\n",
        "\n",
        "    # Get the result of the multiplication from matrix C\n",
        "    result = C[row, col]\n",
        "\n",
        "    # Format the text to be displayed\n",
        "    display_text = f'Calculating C[{row+1},{col+1}]:\\n{operation} = {result}'\n",
        "\n",
        "    # Display the text on the plot\n",
        "    ax.text(5, 1, display_text, va='center', ha='center', fontsize=12)\n",
        "\n",
        "   # Settings for display (Setting axis (else will be too small to be visible) and removing the graph)\n",
        "\n",
        "    ax.set_xlim(-1, 10)\n",
        "    ax.set_ylim(-1, 4)\n",
        "    ax.axis('off')\n",
        "\n",
        "# Our animation code\n",
        "def animate_calculation(i, A, B, C, fig, ax):\n",
        "    # Calculate the row index for the current frame\n",
        "    row = i // B.shape[1]\n",
        "\n",
        "    # Calculate the column index for the current frame\n",
        "    col = i % B.shape[1]\n",
        "\n",
        "    # Call the function to visualize the calculation for the current cell of matrix C\n",
        "    visualize_calculation(A, B, C, row, col, fig, ax)\n",
        "\n",
        "\n",
        "fig, ax = plt.subplots(figsize=(12, 6))\n",
        "\n",
        "ani = animation.FuncAnimation(fig, animate_calculation, frames=A.shape[0] * B.shape[1],\n",
        "                              fargs=(A, B, C, fig, ax), interval=2000)\n",
        "\n",
        "video_file_path = \"matrix_multiplication.mp4\"\n",
        "ani.save(video_file_path, writer='ffmpeg')\n",
        "\n",
        "video_file_path\n"
      ],
      "metadata": {
        "colab": {
          "base_uri": "https://localhost:8080/",
          "height": 518
        },
        "id": "7lYUhL_6ZhqX",
        "outputId": "cf3b0e78-9996-458e-ad00-353c5433a839"
      },
      "execution_count": null,
      "outputs": [
        {
          "output_type": "execute_result",
          "data": {
            "text/plain": [
              "'matrix_multiplication.mp4'"
            ],
            "application/vnd.google.colaboratory.intrinsic+json": {
              "type": "string"
            }
          },
          "metadata": {},
          "execution_count": 49
        },
        {
          "output_type": "display_data",
          "data": {
            "text/plain": [
              "<Figure size 1200x600 with 1 Axes>"
            ],
            "image/png": "[encoded data removed]"
          },
          "metadata": {}
        }
      ]
    }
  ]
}